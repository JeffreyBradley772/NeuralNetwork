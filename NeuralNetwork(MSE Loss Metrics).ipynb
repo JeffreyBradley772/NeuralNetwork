{
 "cells": [
  {
   "cell_type": "code",
   "execution_count": 6,
   "metadata": {},
   "outputs": [],
   "source": [
    "import numpy\n",
    "import scipy.special\n",
    "import matplotlib.pyplot as plt\n"
   ]
  },
  {
   "cell_type": "markdown",
   "metadata": {},
   "source": [
    "#### Get train and test data"
   ]
  },
  {
   "cell_type": "code",
   "execution_count": 25,
   "metadata": {},
   "outputs": [],
   "source": [
    "train_data = numpy.genfromtxt('mnist_train.csv', delimiter=',')"
   ]
  },
  {
   "cell_type": "code",
   "execution_count": 26,
   "metadata": {},
   "outputs": [
    {
     "data": {
      "text/plain": [
       "(60000, 785)"
      ]
     },
     "execution_count": 26,
     "metadata": {},
     "output_type": "execute_result"
    }
   ],
   "source": [
    "train_data.shape"
   ]
  },
  {
   "cell_type": "code",
   "execution_count": 27,
   "metadata": {},
   "outputs": [],
   "source": [
    "test_data = numpy.genfromtxt('mnist_test.csv', delimiter = ',')"
   ]
  },
  {
   "cell_type": "code",
   "execution_count": 28,
   "metadata": {},
   "outputs": [
    {
     "data": {
      "text/plain": [
       "(10000, 785)"
      ]
     },
     "execution_count": 28,
     "metadata": {},
     "output_type": "execute_result"
    }
   ],
   "source": [
    "test_data.shape"
   ]
  },
  {
   "cell_type": "code",
   "execution_count": 29,
   "metadata": {},
   "outputs": [],
   "source": [
    "#Seems already greyscaled? Why 785 vs 784"
   ]
  },
  {
   "cell_type": "code",
   "execution_count": 30,
   "metadata": {},
   "outputs": [
    {
     "data": {
      "text/plain": [
       "array([[7., 0., 0., ..., 0., 0., 0.],\n",
       "       [2., 0., 0., ..., 0., 0., 0.],\n",
       "       [1., 0., 0., ..., 0., 0., 0.],\n",
       "       ...,\n",
       "       [4., 0., 0., ..., 0., 0., 0.],\n",
       "       [5., 0., 0., ..., 0., 0., 0.],\n",
       "       [6., 0., 0., ..., 0., 0., 0.]])"
      ]
     },
     "execution_count": 30,
     "metadata": {},
     "output_type": "execute_result"
    }
   ],
   "source": [
    "test_data"
   ]
  },
  {
   "cell_type": "code",
   "execution_count": 31,
   "metadata": {},
   "outputs": [],
   "source": [
    "y_train = []\n",
    "for i in range(60000):\n",
    "    y_train.append(train_data[i][0])\n",
    "y_train = numpy.asarray(y_train)"
   ]
  },
  {
   "cell_type": "code",
   "execution_count": 32,
   "metadata": {},
   "outputs": [
    {
     "data": {
      "text/plain": [
       "array([5., 0., 4., ..., 5., 6., 8.])"
      ]
     },
     "execution_count": 32,
     "metadata": {},
     "output_type": "execute_result"
    }
   ],
   "source": [
    "y_train"
   ]
  },
  {
   "cell_type": "code",
   "execution_count": 33,
   "metadata": {},
   "outputs": [],
   "source": [
    "y_train1 = numpy.empty((60000,10))\n",
    "for i in range(len(y_train)):\n",
    "    ans = y_train[i]\n",
    "    newList = [0.01 for i in range(10)]\n",
    "    y_train1[i] = numpy.asfarray(newList)\n",
    "    y_train1[i][int(ans)] = 0.99"
   ]
  },
  {
   "cell_type": "code",
   "execution_count": 34,
   "metadata": {},
   "outputs": [
    {
     "data": {
      "text/plain": [
       "array([0.01, 0.01, 0.01, 0.01, 0.01, 0.99, 0.01, 0.01, 0.01, 0.01])"
      ]
     },
     "execution_count": 34,
     "metadata": {},
     "output_type": "execute_result"
    }
   ],
   "source": [
    "y_train1[0]"
   ]
  },
  {
   "cell_type": "code",
   "execution_count": 35,
   "metadata": {},
   "outputs": [
    {
     "data": {
      "text/plain": [
       "(60000,)"
      ]
     },
     "execution_count": 35,
     "metadata": {},
     "output_type": "execute_result"
    }
   ],
   "source": [
    "y_train.shape"
   ]
  },
  {
   "cell_type": "code",
   "execution_count": 36,
   "metadata": {},
   "outputs": [],
   "source": [
    "x_train = []\n",
    "for i in range(60000):\n",
    "    x_train.append(train_data[i][1:])\n",
    "x_train = numpy.asarray(x_train)"
   ]
  },
  {
   "cell_type": "code",
   "execution_count": null,
   "metadata": {},
   "outputs": [],
   "source": []
  },
  {
   "cell_type": "code",
   "execution_count": 38,
   "metadata": {},
   "outputs": [
    {
     "data": {
      "text/plain": [
       "(60000, 784)"
      ]
     },
     "execution_count": 38,
     "metadata": {},
     "output_type": "execute_result"
    }
   ],
   "source": [
    "x_train.shape"
   ]
  },
  {
   "cell_type": "code",
   "execution_count": 39,
   "metadata": {},
   "outputs": [],
   "source": [
    "y_test = []\n",
    "for i in range(10000):\n",
    "    y_test.append(test_data[i][0])\n",
    "y_test = numpy.asarray(y_test)"
   ]
  },
  {
   "cell_type": "code",
   "execution_count": 40,
   "metadata": {},
   "outputs": [],
   "source": [
    "y_test1 = numpy.empty((60000,10))\n",
    "for i in range(len(y_test)):\n",
    "    ans = y_test[i]\n",
    "    newList = [0.01 for i in range(10)]\n",
    "    y_test1[i] = numpy.asfarray(newList)\n",
    "    y_test1[i][int(ans)] = 0.99"
   ]
  },
  {
   "cell_type": "code",
   "execution_count": 41,
   "metadata": {},
   "outputs": [],
   "source": [
    "x_test = []\n",
    "for i in range(10000):\n",
    "    x_test.append(test_data[i][1:])\n",
    "x_test = numpy.asarray(x_test)"
   ]
  },
  {
   "cell_type": "markdown",
   "metadata": {},
   "source": [
    "#### Normalize x_data between 0.01 and 0.99"
   ]
  },
  {
   "cell_type": "code",
   "execution_count": 43,
   "metadata": {},
   "outputs": [],
   "source": [
    "x_train, x_test = x_train*(0.98/255)+0.01, x_test*(0.98/255)+0.01"
   ]
  },
  {
   "cell_type": "code",
   "execution_count": null,
   "metadata": {},
   "outputs": [],
   "source": []
  },
  {
   "cell_type": "markdown",
   "metadata": {},
   "source": [
    "#### Neural Network Class"
   ]
  },
  {
   "cell_type": "code",
   "execution_count": 10,
   "metadata": {},
   "outputs": [],
   "source": [
    "class neuralNetwork:\n",
    "      \n",
    "    # initialise the neural network\n",
    "    def __init__(self, inputnodes = 784, hiddennodes=200, outputnodes=10, learningrate=0.01):\n",
    "        self.inodes = inputnodes #integers\n",
    "        self.hnodes = hiddennodes\n",
    "        self.onodes = outputnodes\n",
    "        self.lr = learningrate\n",
    "        #how do we make this a matrix for more than 1 layer?\n",
    "        self.wih = numpy.random.normal(0.0,pow(self.hnodes,-0.5),(self.hnodes,self.inodes))\n",
    "        \n",
    "        self.whh = numpy.random.normal(0.0,pow(self.hnodes,-0.5),(self.hnodes,self.hnodes))\n",
    "        \n",
    "        self.who = numpy.random.normal(0.0,pow(self.hnodes,-0.5),(self.hnodes,self.onodes))\n",
    "        \n",
    "        \n",
    "    #activation\n",
    "    def sigmoid(self, z):\n",
    "        return scipy.special.expit(z)\n",
    "    \n",
    "    #loss\n",
    "    def MSEerror(self, Input, Targets):\n",
    "        return sum((Input-Targets)**2).mean() #is this sse?\n",
    "    \n",
    "        \n",
    "        \n",
    "    # train the neural network\n",
    "    def train(self, inputs_list, targets_list, count):\n",
    "        \n",
    "        hidden1Output = self.sigmoid(numpy.dot(self.wih,inputs_list.T)) #output from first hidden layer\n",
    "        \n",
    "        hidden2Output = self.sigmoid(numpy.dot(self.whh,hidden1Output))\n",
    "        \n",
    "        finalOutput = self.sigmoid(numpy.dot(self.who.T,hidden2Output)) #all for one\n",
    "        \n",
    "        MSEerror = self.MSEerror(finalOutput,targets_list)\n",
    "        \n",
    "        \n",
    "        #Adjust weights\n",
    "        \n",
    "        #output to hidden\n",
    "        Error = targets_list.T - finalOutput\n",
    "        \n",
    "        gradientho = Error*finalOutput*(1.0-finalOutput)\n",
    "        Dwo = self.lr*numpy.dot(gradientho[:,None], (hidden2Output[:,None]).T)\n",
    "        self.who += Dwo.T\n",
    "        \n",
    "        #hidden to hidden\n",
    "        hidden2Errors = numpy.dot(self.who,Error)\n",
    "        gradienthh = ((hidden2Errors *hidden2Output)*(1-hidden2Output))\n",
    "        self.whh += self.lr*numpy.dot(gradienthh[:,None],(hidden1Output[:,None]).T)\n",
    "                      \n",
    "        \n",
    "        \n",
    "        #Hidden Layer Error\n",
    "        hidden1Errors = numpy.dot(self.whh,hidden2Errors) #may or may not transpose\n",
    "        gradientih = ((hidden1Errors * hidden1Output)*(1-hidden1Output))\n",
    "        self.wih += self.lr*numpy.dot(gradientih[:,None],(inputs_list[:,None]).T)\n",
    "        \n",
    "        return MSEerror\n",
    "\n",
    "        \n",
    "        \n",
    "        \n",
    "        \n",
    "\n",
    "    \n",
    "    # query the neural network\n",
    "    def query(self, inputs):\n",
    "        inputs = inputs.T\n",
    "        \n",
    "        \n",
    "        hidden1Output = self.sigmoid(numpy.dot(self.wih,inputs.T)) #output from first hidden layer\n",
    "        \n",
    "        hidden2Output = self.sigmoid(numpy.dot(self.whh,hidden1Output))\n",
    "        \n",
    "        finalOutput = self.sigmoid(numpy.dot(self.who.T,hidden2Output))\n",
    "        \n",
    "        res = finalOutput.argmax()\n",
    "        \n",
    "\n",
    "        return res\n",
    "    \n",
    "    #accuracy of network\n",
    "    def get_accuracy(self, inputs, labels):\n",
    "        correct = 0\n",
    "        count = 0\n",
    "        for i in range(len(inputs)):\n",
    "            count +=1\n",
    "            \n",
    "            inputImage = inputs[i].T\n",
    "            hidden1Output = self.sigmoid(numpy.dot(self.wih,inputImage)) #output from first hidden layer\n",
    "            hidden2Output = self.sigmoid(numpy.dot(self.whh,hidden1Output))\n",
    "            finalOutput = self.sigmoid(numpy.dot(self.who.T,hidden2Output))\n",
    "\n",
    "            prediction = finalOutput.argmax()\n",
    "            trueLabel = labels[i].argmax()\n",
    "            #print(prediction,trueLabel)\n",
    "            if trueLabel == prediction:\n",
    "                correct+=1\n",
    "        accuracy = correct/count\n",
    "        return accuracy\n",
    "        \n"
   ]
  },
  {
   "cell_type": "code",
   "execution_count": null,
   "metadata": {},
   "outputs": [],
   "source": []
  },
  {
   "cell_type": "code",
   "execution_count": null,
   "metadata": {},
   "outputs": [],
   "source": []
  },
  {
   "cell_type": "markdown",
   "metadata": {},
   "source": [
    "#### Initial Model: 200 Hidden Nodes (default), 0.01 learning rate (default), 5 epochs"
   ]
  },
  {
   "cell_type": "code",
   "execution_count": 228,
   "metadata": {},
   "outputs": [
    {
     "data": {
      "text/plain": [
       "(60000, 784)"
      ]
     },
     "execution_count": 228,
     "metadata": {},
     "output_type": "execute_result"
    }
   ],
   "source": [
    "x_train_length = len(x_train)\n",
    "x_train.shape"
   ]
  },
  {
   "cell_type": "code",
   "execution_count": 233,
   "metadata": {},
   "outputs": [
    {
     "name": "stdout",
     "output_type": "stream",
     "text": [
      "0.06009857876894957\n",
      "0.04550539614726707\n",
      "0.03146557564569505\n",
      "0.016674859784132974\n",
      "0.006003180633138381\n"
     ]
    }
   ],
   "source": [
    "NN = neuralNetwork()\n",
    "#training with 5 epochs\n",
    "losses = []\n",
    "for epoch in range(5):\n",
    "    for i in range(len(x_train)):\n",
    "        loss = NN.train(x_train[i], y_train1[i],i)\n",
    "        #print(loss)\n",
    "        if i == 59999:\n",
    "            losses.append(loss)\n",
    "            print(loss)"
   ]
  },
  {
   "cell_type": "code",
   "execution_count": 234,
   "metadata": {},
   "outputs": [
    {
     "data": {
      "text/plain": [
       "([<matplotlib.axis.XTick at 0x223e46f1250>,\n",
       "  <matplotlib.axis.XTick at 0x223e46f12e0>,\n",
       "  <matplotlib.axis.XTick at 0x2239f892ca0>,\n",
       "  <matplotlib.axis.XTick at 0x223ba54ba90>,\n",
       "  <matplotlib.axis.XTick at 0x223ba54bfd0>],\n",
       " <a list of 5 Text major ticklabel objects>)"
      ]
     },
     "execution_count": 234,
     "metadata": {},
     "output_type": "execute_result"
    },
    {
     "data": {
      "image/png": "[encoded data removed]",
      "text/plain": [
       "<Figure size 432x288 with 1 Axes>"
      ]
     },
     "metadata": {
      "needs_background": "light"
     },
     "output_type": "display_data"
    }
   ],
   "source": [
    "independent = [x for x in range(1,6)]\n",
    "plt.plot(independent,losses, color = 'g', linewidth = 3)\n",
    "\n",
    "plt.xlabel(\"Epochs\")\n",
    "plt.ylabel(\"SSE Loss\")\n",
    "plt.title(\"Epochs: 5, HNodes: 200, LR: 0.01\")\n",
    "plt.xticks(independent)"
   ]
  },
  {
   "cell_type": "code",
   "execution_count": 236,
   "metadata": {},
   "outputs": [
    {
     "data": {
      "text/plain": [
       "0.9643"
      ]
     },
     "execution_count": 236,
     "metadata": {},
     "output_type": "execute_result"
    }
   ],
   "source": [
    "NN.get_accuracy(x_test,y_test1)"
   ]
  },
  {
   "cell_type": "code",
   "execution_count": null,
   "metadata": {},
   "outputs": [],
   "source": []
  },
  {
   "cell_type": "code",
   "execution_count": null,
   "metadata": {},
   "outputs": [],
   "source": []
  },
  {
   "cell_type": "code",
   "execution_count": 99,
   "metadata": {},
   "outputs": [],
   "source": [
    "epochs = [1, 5, 10, 15, 20 ]\n",
    "LRs = [0.001, 0.01, 0.1, 0.2, 0.4, 0.6]"
   ]
  },
  {
   "cell_type": "markdown",
   "metadata": {},
   "source": [
    "#### Finding the optimal number of hidden nodes"
   ]
  },
  {
   "cell_type": "code",
   "execution_count": 237,
   "metadata": {},
   "outputs": [
    {
     "name": "stdout",
     "output_type": "stream",
     "text": [
      "0.002856737660735922\n",
      "0.0069162110156509755\n",
      "0.01915812924673146\n",
      "0.002255973012090996\n",
      "0.01015128213233537\n",
      "0.008809521627625045\n"
     ]
    },
    {
     "data": {
      "text/plain": [
       "([<matplotlib.axis.XTick at 0x223e9acc8e0>,\n",
       "  <matplotlib.axis.XTick at 0x223e9acc8b0>,\n",
       "  <matplotlib.axis.XTick at 0x223e9ac4640>,\n",
       "  <matplotlib.axis.XTick at 0x223e9aac610>,\n",
       "  <matplotlib.axis.XTick at 0x223e9aacb20>,\n",
       "  <matplotlib.axis.XTick at 0x223e9ab1070>],\n",
       " <a list of 6 Text major ticklabel objects>)"
      ]
     },
     "execution_count": 237,
     "metadata": {},
     "output_type": "execute_result"
    },
    {
     "data": {
      "image/png": "[encoded data removed]",
      "text/plain": [
       "<Figure size 432x288 with 1 Axes>"
      ]
     },
     "metadata": {
      "needs_background": "light"
     },
     "output_type": "display_data"
    }
   ],
   "source": [
    "HNlosses = []\n",
    "for Nodes in range(100,601,100):\n",
    "    NN1 = neuralNetwork(inputnodes = 784, hiddennodes=Nodes, outputnodes=10, learningrate=0.01)\n",
    "    for epoch in range(5):\n",
    "        for i in range(len(x_train)):\n",
    "            loss = NN1.train(x_train[i], y_train1[i],i)\n",
    "            if epoch == 4 and i == 59999:\n",
    "                HNlosses.append(loss)\n",
    "                print(loss)\n",
    "\n",
    "independent = [x for x in range(100,601,100)]\n",
    "plt.plot(independent,HNlosses, color = 'g', linewidth = 3)\n",
    "\n",
    "plt.xlabel(\"# of HNodes\")\n",
    "plt.ylabel(\"SSE Loss\")\n",
    "plt.title(\"Epochs: 5, LR: 0.01, Variable # of HNodes\")\n",
    "plt.xticks(independent)"
   ]
  },
  {
   "cell_type": "markdown",
   "metadata": {},
   "source": [
    "#### Optimal Learning Rate"
   ]
  },
  {
   "cell_type": "code",
   "execution_count": 238,
   "metadata": {},
   "outputs": [
    {
     "name": "stdout",
     "output_type": "stream",
     "text": [
      "0.12158397712833352\n",
      "0.0011385710667374189\n",
      "0.00028790959147888544\n",
      "0.0023573686172286322\n",
      "0.02784429385873097\n",
      "0.8555827734193355\n"
     ]
    },
    {
     "data": {
      "text/plain": [
       "([<matplotlib.axis.XTick at 0x22c8be9b190>,\n",
       "  <matplotlib.axis.XTick at 0x22c8be9b160>,\n",
       "  <matplotlib.axis.XTick at 0x22c8be8c400>,\n",
       "  <matplotlib.axis.XTick at 0x22c8be78d30>,\n",
       "  <matplotlib.axis.XTick at 0x22c8be81280>,\n",
       "  <matplotlib.axis.XTick at 0x22c8be817c0>],\n",
       " <a list of 6 Text major ticklabel objects>)"
      ]
     },
     "execution_count": 238,
     "metadata": {},
     "output_type": "execute_result"
    },
    {
     "data": {
      "image/png": "[encoded data removed]",
      "text/plain": [
       "<Figure size 432x288 with 1 Axes>"
      ]
     },
     "metadata": {
      "needs_background": "light"
     },
     "output_type": "display_data"
    }
   ],
   "source": [
    "LRs = [0.001, 0.01, 0.1, 0.2, 0.4, 0.6]\n",
    "LRlosses = []\n",
    "for lr in LRs:\n",
    "    NN2 = neuralNetwork(inputnodes = 784, hiddennodes=200, outputnodes=10, learningrate=lr)\n",
    "    for epoch in range(5):\n",
    "        for i in range(len(x_train)):\n",
    "            loss = NN2.train(x_train[i], y_train1[i],i)\n",
    "            if epoch == 4 and i == 59999:\n",
    "                LRlosses.append(loss)\n",
    "                print(loss)\n",
    "\n",
    "\n",
    "plt.plot(LRs,LRlosses, color = 'g', linewidth = 3)\n",
    "\n",
    "plt.xlabel(\"Learning Rates\")\n",
    "plt.ylabel(\"SSE Loss\")\n",
    "plt.title(\"Epochs: 5, HNodes: 200, Variable Learning Rates\")\n",
    "plt.xticks(LRs)"
   ]
  },
  {
   "cell_type": "markdown",
   "metadata": {},
   "source": [
    "#### Optimal Epochs"
   ]
  },
  {
   "cell_type": "code",
   "execution_count": 241,
   "metadata": {},
   "outputs": [
    {
     "name": "stdout",
     "output_type": "stream",
     "text": [
      "0.05473093765657371\n",
      "0.00268395935258004\n",
      "0.0008282143696314265\n",
      "0.0006363631490555703\n",
      "0.0007332806091902007\n"
     ]
    },
    {
     "data": {
      "text/plain": [
       "([<matplotlib.axis.XTick at 0x223d6c11dc0>,\n",
       "  <matplotlib.axis.XTick at 0x223d6c11d90>,\n",
       "  <matplotlib.axis.XTick at 0x223d6c001c0>,\n",
       "  <matplotlib.axis.XTick at 0x223d6beba30>,\n",
       "  <matplotlib.axis.XTick at 0x223d6bebf40>],\n",
       " <a list of 5 Text major ticklabel objects>)"
      ]
     },
     "execution_count": 241,
     "metadata": {},
     "output_type": "execute_result"
    },
    {
     "data": {
      "image/png": "[encoded data removed]",
      "text/plain": [
       "<Figure size 432x288 with 1 Axes>"
      ]
     },
     "metadata": {
      "needs_background": "light"
     },
     "output_type": "display_data"
    }
   ],
   "source": [
    "epochs = [1, 5, 10, 15, 20 ]\n",
    "EPlosses = []\n",
    "for e in epochs:\n",
    "    NN3 = neuralNetwork(inputnodes = 784, hiddennodes=200, outputnodes=10, learningrate=0.01)\n",
    "    for epoch in range(e):\n",
    "        for i in range(len(x_train)):\n",
    "            loss = NN3.train(x_train[i], y_train1[i],i)\n",
    "            if epoch == e-1 and i == 59999:\n",
    "                EPlosses.append(loss)\n",
    "                print(loss)\n",
    "\n",
    "\n",
    "plt.plot(epochs,EPlosses, color = 'g', linewidth = 3)\n",
    "\n",
    "plt.xlabel(\"Epochs\")\n",
    "plt.ylabel(\"SSE Loss\")\n",
    "plt.title(\"HNodes: 200, LR: 0.01, Variable Epochs\")\n",
    "plt.xticks(epochs)"
   ]
  },
  {
   "cell_type": "markdown",
   "metadata": {},
   "source": [
    "#### Final Hyperparameters"
   ]
  },
  {
   "cell_type": "markdown",
   "metadata": {},
   "source": [
    "Based on the hyperparameter tests, the optimal model has 400 hidden nodes, a learning rate of 0.1, and trains for 10 epochs."
   ]
  },
  {
   "cell_type": "code",
   "execution_count": null,
   "metadata": {},
   "outputs": [],
   "source": []
  },
  {
   "cell_type": "code",
   "execution_count": 22,
   "metadata": {},
   "outputs": [
    {
     "name": "stdout",
     "output_type": "stream",
     "text": [
      "Epoch:  1 Loss:  0.003060987724275651\n",
      "Epoch:  2 Loss:  0.0005157878783586587\n",
      "Epoch:  3 Loss:  0.0046787213831958755\n",
      "Epoch:  4 Loss:  0.015772263366660138\n",
      "Epoch:  5 Loss:  0.010131581120580564\n",
      "Epoch:  6 Loss:  0.008794194567797767\n",
      "Epoch:  7 Loss:  0.007435783911653346\n",
      "Epoch:  8 Loss:  0.03088310521255393\n",
      "Epoch:  9 Loss:  0.051588964416463205\n",
      "Epoch:  10 Loss:  0.14627541314101983\n"
     ]
    }
   ],
   "source": [
    "FinalNN = neuralNetwork(inputnodes = 784, hiddennodes=400, outputnodes=10, learningrate=0.1)\n",
    "FinalEpochs = 10\n",
    "for epoch in range(1,FinalEpochs+1):\n",
    "        for i in range(len(x_train)):\n",
    "            loss = FinalNN.train(x_train[i], y_train1[i],i)\n",
    "            if i == len(x_train)-1:\n",
    "                print(\"Epoch: \", epoch, \"Loss: \", loss)"
   ]
  },
  {
   "cell_type": "code",
   "execution_count": 23,
   "metadata": {},
   "outputs": [
    {
     "data": {
      "text/plain": [
       "0.9079"
      ]
     },
     "execution_count": 23,
     "metadata": {},
     "output_type": "execute_result"
    }
   ],
   "source": [
    "FinalNN.get_accuracy(x_test,y_test1)"
   ]
  },
  {
   "cell_type": "markdown",
   "metadata": {},
   "source": [
    "Oddly, our accuracy was lower than the original network?"
   ]
  },
  {
   "cell_type": "markdown",
   "metadata": {},
   "source": [
    "#### Try on gimp images - SEE ACCURACY NOTEBOOK"
   ]
  },
  {
   "cell_type": "markdown",
   "metadata": {},
   "source": [
    "#### Rotate images for new data - See Accuracy Notebook"
   ]
  }
 ],
 "metadata": {
  "kernelspec": {
   "display_name": "Python 3",
   "language": "python",
   "name": "python3"
  },
  "language_info": {
   "codemirror_mode": {
    "name": "ipython",
    "version": 3
   },
   "file_extension": ".py",
   "mimetype": "text/x-python",
   "name": "python",
   "nbconvert_exporter": "python",
   "pygments_lexer": "ipython3",
   "version": "3.8.3"
  }
 },
 "nbformat": 4,
 "nbformat_minor": 4
}
