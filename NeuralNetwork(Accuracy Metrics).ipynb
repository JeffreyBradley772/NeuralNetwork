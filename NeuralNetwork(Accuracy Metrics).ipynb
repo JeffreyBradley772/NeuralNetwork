{
 "cells": [
  {
   "cell_type": "code",
   "execution_count": 3,
   "metadata": {},
   "outputs": [],
   "source": [
    "import numpy\n",
    "import scipy.special\n",
    "import matplotlib.pyplot as plt\n"
   ]
  },
  {
   "cell_type": "markdown",
   "metadata": {},
   "source": [
    "#### Get train and test data"
   ]
  },
  {
   "cell_type": "code",
   "execution_count": 4,
   "metadata": {},
   "outputs": [],
   "source": [
    "train_data = numpy.genfromtxt('mnist_train.csv', delimiter=',')"
   ]
  },
  {
   "cell_type": "code",
   "execution_count": 5,
   "metadata": {},
   "outputs": [
    {
     "data": {
      "text/plain": [
       "(60000, 785)"
      ]
     },
     "execution_count": 5,
     "metadata": {},
     "output_type": "execute_result"
    }
   ],
   "source": [
    "train_data.shape"
   ]
  },
  {
   "cell_type": "code",
   "execution_count": 6,
   "metadata": {},
   "outputs": [],
   "source": [
    "test_data = numpy.genfromtxt('mnist_test.csv', delimiter = ',')"
   ]
  },
  {
   "cell_type": "code",
   "execution_count": 7,
   "metadata": {},
   "outputs": [
    {
     "data": {
      "text/plain": [
       "(10000, 785)"
      ]
     },
     "execution_count": 7,
     "metadata": {},
     "output_type": "execute_result"
    }
   ],
   "source": [
    "test_data.shape"
   ]
  },
  {
   "cell_type": "code",
   "execution_count": 8,
   "metadata": {},
   "outputs": [],
   "source": [
    "#Seems already greyscaled? Why 785 vs 784"
   ]
  },
  {
   "cell_type": "code",
   "execution_count": 9,
   "metadata": {},
   "outputs": [
    {
     "data": {
      "text/plain": [
       "array([[7., 0., 0., ..., 0., 0., 0.],\n",
       "       [2., 0., 0., ..., 0., 0., 0.],\n",
       "       [1., 0., 0., ..., 0., 0., 0.],\n",
       "       ...,\n",
       "       [4., 0., 0., ..., 0., 0., 0.],\n",
       "       [5., 0., 0., ..., 0., 0., 0.],\n",
       "       [6., 0., 0., ..., 0., 0., 0.]])"
      ]
     },
     "execution_count": 9,
     "metadata": {},
     "output_type": "execute_result"
    }
   ],
   "source": [
    "test_data"
   ]
  },
  {
   "cell_type": "code",
   "execution_count": 10,
   "metadata": {},
   "outputs": [],
   "source": [
    "y_train = []\n",
    "for i in range(60000):\n",
    "    y_train.append(train_data[i][0])\n",
    "y_train = numpy.asarray(y_train)"
   ]
  },
  {
   "cell_type": "code",
   "execution_count": 11,
   "metadata": {},
   "outputs": [
    {
     "data": {
      "text/plain": [
       "array([5., 0., 4., ..., 5., 6., 8.])"
      ]
     },
     "execution_count": 11,
     "metadata": {},
     "output_type": "execute_result"
    }
   ],
   "source": [
    "y_train"
   ]
  },
  {
   "cell_type": "code",
   "execution_count": 12,
   "metadata": {},
   "outputs": [],
   "source": [
    "y_train1 = numpy.empty((60000,10))\n",
    "for i in range(len(y_train)):\n",
    "    ans = y_train[i]\n",
    "    newList = [0.01 for i in range(10)]\n",
    "    y_train1[i] = numpy.asfarray(newList)\n",
    "    y_train1[i][int(ans)] = 0.99"
   ]
  },
  {
   "cell_type": "code",
   "execution_count": 13,
   "metadata": {},
   "outputs": [
    {
     "data": {
      "text/plain": [
       "array([0.01, 0.01, 0.01, 0.01, 0.01, 0.99, 0.01, 0.01, 0.01, 0.01])"
      ]
     },
     "execution_count": 13,
     "metadata": {},
     "output_type": "execute_result"
    }
   ],
   "source": [
    "y_train1[0]"
   ]
  },
  {
   "cell_type": "code",
   "execution_count": 14,
   "metadata": {},
   "outputs": [
    {
     "data": {
      "text/plain": [
       "(60000,)"
      ]
     },
     "execution_count": 14,
     "metadata": {},
     "output_type": "execute_result"
    }
   ],
   "source": [
    "y_train.shape"
   ]
  },
  {
   "cell_type": "code",
   "execution_count": 15,
   "metadata": {},
   "outputs": [],
   "source": [
    "x_train = []\n",
    "for i in range(60000):\n",
    "    x_train.append(train_data[i][1:])\n",
    "x_train = numpy.asarray(x_train)"
   ]
  },
  {
   "cell_type": "code",
   "execution_count": null,
   "metadata": {},
   "outputs": [],
   "source": []
  },
  {
   "cell_type": "code",
   "execution_count": 17,
   "metadata": {},
   "outputs": [
    {
     "data": {
      "text/plain": [
       "(60000, 784)"
      ]
     },
     "execution_count": 17,
     "metadata": {},
     "output_type": "execute_result"
    }
   ],
   "source": [
    "x_train.shape"
   ]
  },
  {
   "cell_type": "code",
   "execution_count": 18,
   "metadata": {},
   "outputs": [],
   "source": [
    "y_test = []\n",
    "for i in range(10000):\n",
    "    y_test.append(test_data[i][0])\n",
    "y_test = numpy.asarray(y_test)"
   ]
  },
  {
   "cell_type": "code",
   "execution_count": 19,
   "metadata": {},
   "outputs": [],
   "source": [
    "y_test1 = numpy.empty((60000,10))\n",
    "for i in range(len(y_test)):\n",
    "    ans = y_test[i]\n",
    "    newList = [0.01 for i in range(10)]\n",
    "    y_test1[i] = numpy.asfarray(newList)\n",
    "    y_test1[i][int(ans)] = 0.99"
   ]
  },
  {
   "cell_type": "code",
   "execution_count": 20,
   "metadata": {},
   "outputs": [],
   "source": [
    "x_test = []\n",
    "for i in range(10000):\n",
    "    x_test.append(test_data[i][1:])\n",
    "x_test = numpy.asarray(x_test)"
   ]
  },
  {
   "cell_type": "markdown",
   "metadata": {},
   "source": [
    "#### Normalize data between 0.01 and 0.99"
   ]
  },
  {
   "cell_type": "code",
   "execution_count": 21,
   "metadata": {},
   "outputs": [],
   "source": [
    "x_train, x_test = x_train*(0.98/255)+0.01, x_test*(0.98/255)+0.01"
   ]
  },
  {
   "cell_type": "code",
   "execution_count": null,
   "metadata": {},
   "outputs": [],
   "source": []
  },
  {
   "cell_type": "markdown",
   "metadata": {},
   "source": [
    "#### Neural Network Class"
   ]
  },
  {
   "cell_type": "code",
   "execution_count": 22,
   "metadata": {},
   "outputs": [],
   "source": [
    "class neuralNetwork:\n",
    "      \n",
    "    # initialise the neural network\n",
    "    def __init__(self, inputnodes = 784, hiddennodes=200, outputnodes=10, learningrate=0.01):\n",
    "        self.inodes = inputnodes #integers\n",
    "        self.hnodes = hiddennodes\n",
    "        self.onodes = outputnodes\n",
    "        self.lr = learningrate\n",
    "        #how do we make this a matrix for more than 1 layer?\n",
    "        self.wih = numpy.random.normal(0.0,pow(self.inodes,-0.5),(self.hnodes,self.inodes))\n",
    "        \n",
    "        self.whh = numpy.random.normal(0.0,pow(self.hnodes,-0.5),(self.hnodes,self.hnodes))\n",
    "        \n",
    "        self.who = numpy.random.normal(0.0,pow(self.hnodes,-0.5),(self.hnodes,self.onodes))\n",
    "        \n",
    "        \n",
    "    \n",
    "    def sigmoid(self, z):\n",
    "        return scipy.special.expit(z)\n",
    "    \n",
    "    \n",
    "    def MSEerror(self, Input, Targets):\n",
    "        return sum((Input-Targets)**2).mean() #is this sse?\n",
    "    \n",
    "        \n",
    "        \n",
    "    # train the neural network\n",
    "    def train(self, inputs_list, targets_list, count):\n",
    "        \n",
    "        hidden1Output = self.sigmoid(numpy.dot(self.wih,inputs_list.T)) #output from first hidden layer\n",
    "        \n",
    "        hidden2Output = self.sigmoid(numpy.dot(self.whh,hidden1Output))\n",
    "        \n",
    "        finalOutput = self.sigmoid(numpy.dot(self.who.T,hidden2Output)) #all for one\n",
    "        \n",
    "        MSEerror = self.MSEerror(finalOutput,targets_list)\n",
    "        \n",
    "        \n",
    "        #Adjust weights\n",
    "        \n",
    "        #output to hidden\n",
    "        Error = targets_list.T - finalOutput\n",
    "        \n",
    "        gradientho = Error*finalOutput*(1.0-finalOutput)\n",
    "        Dwo = self.lr*numpy.dot(gradientho[:,None], (hidden2Output[:,None]).T)\n",
    "        self.who += Dwo.T\n",
    "        \n",
    "        #hidden to hidden\n",
    "        hidden2Errors = numpy.dot(self.who,Error)\n",
    "        gradienthh = ((hidden2Errors *hidden2Output)*(1-hidden2Output))\n",
    "        self.whh += self.lr*numpy.dot(gradienthh[:,None],(hidden1Output[:,None]).T)\n",
    "                      \n",
    "        \n",
    "        \n",
    "        #Hidden Layer Error\n",
    "        hidden1Errors = numpy.dot(self.whh,hidden2Errors)\n",
    "        gradientih = ((hidden1Errors * hidden1Output)*(1-hidden1Output))\n",
    "        self.wih += self.lr*numpy.dot(gradientih[:,None],(inputs_list[:,None]).T)\n",
    "        \n",
    "        return MSEerror\n",
    "\n",
    "        \n",
    "        \n",
    "        \n",
    "        \n",
    "\n",
    "    \n",
    "    # query the neural network\n",
    "    def query(self, inputs):\n",
    "        inputs = inputs.T\n",
    "        \n",
    "        \n",
    "        hidden1Output = self.sigmoid(numpy.dot(self.wih,inputs.T)) #output from first hidden layer\n",
    "        \n",
    "        hidden2Output = self.sigmoid(numpy.dot(self.whh,hidden1Output))\n",
    "        \n",
    "        finalOutput = self.sigmoid(numpy.dot(self.who.T,hidden2Output))\n",
    "        \n",
    "        res = finalOutput.argmax()\n",
    "        \n",
    "\n",
    "        return res\n",
    "    \n",
    "    def get_accuracy(self, inputs, labels):\n",
    "        correct = 0\n",
    "        count = 0\n",
    "        for i in range(len(inputs)):\n",
    "            count +=1\n",
    "            \n",
    "            inputImage = inputs[i].T\n",
    "            hidden1Output = self.sigmoid(numpy.dot(self.wih,inputImage)) #output from first hidden layer\n",
    "            hidden2Output = self.sigmoid(numpy.dot(self.whh,hidden1Output))\n",
    "            finalOutput = self.sigmoid(numpy.dot(self.who.T,hidden2Output))\n",
    "\n",
    "            prediction = finalOutput.argmax()\n",
    "            trueLabel = labels[i].argmax()\n",
    "            #print(prediction,trueLabel)\n",
    "            if trueLabel == prediction:\n",
    "                correct+=1\n",
    "        accuracy = correct/count\n",
    "        return accuracy\n",
    "        \n"
   ]
  },
  {
   "cell_type": "code",
   "execution_count": null,
   "metadata": {},
   "outputs": [],
   "source": []
  },
  {
   "cell_type": "code",
   "execution_count": null,
   "metadata": {},
   "outputs": [],
   "source": []
  },
  {
   "cell_type": "markdown",
   "metadata": {},
   "source": [
    "#### Initial Model: 200 Hidden Nodes (default), 0.01 learning rate (default), 5 epochs"
   ]
  },
  {
   "cell_type": "code",
   "execution_count": 23,
   "metadata": {},
   "outputs": [
    {
     "data": {
      "text/plain": [
       "(60000, 784)"
      ]
     },
     "execution_count": 23,
     "metadata": {},
     "output_type": "execute_result"
    }
   ],
   "source": [
    "x_train_length = len(x_train)\n",
    "x_train.shape"
   ]
  },
  {
   "cell_type": "code",
   "execution_count": 25,
   "metadata": {},
   "outputs": [
    {
     "name": "stdout",
     "output_type": "stream",
     "text": [
      "0.9108\n",
      "0.9393\n",
      "0.9543\n",
      "0.9601\n",
      "0.9656\n"
     ]
    }
   ],
   "source": [
    "NN = neuralNetwork()\n",
    "#training with 5 epochs\n",
    "accuracy = []\n",
    "for epoch in range(5):\n",
    "    for i in range(len(x_train)):\n",
    "        loss = NN.train(x_train[i], y_train1[i],i)\n",
    "        #print(loss)\n",
    "        if i == 59999:\n",
    "            acc = NN.get_accuracy(x_test,y_test1)\n",
    "            accuracy.append(acc)\n",
    "            print(acc)"
   ]
  },
  {
   "cell_type": "code",
   "execution_count": 27,
   "metadata": {},
   "outputs": [
    {
     "data": {
      "text/plain": [
       "([<matplotlib.axis.XTick at 0x13f12b25cc0>,\n",
       "  <matplotlib.axis.XTick at 0x13f12b255f8>,\n",
       "  <matplotlib.axis.XTick at 0x13f12b25ba8>,\n",
       "  <matplotlib.axis.XTick at 0x13f151dfcc0>,\n",
       "  <matplotlib.axis.XTick at 0x13f151ad240>],\n",
       " <a list of 5 Text xticklabel objects>)"
      ]
     },
     "execution_count": 27,
     "metadata": {},
     "output_type": "execute_result"
    },
    {
     "data": {
      "image/png": "[encoded data removed]",
      "text/plain": [
       "<Figure size 432x288 with 1 Axes>"
      ]
     },
     "metadata": {
      "needs_background": "light"
     },
     "output_type": "display_data"
    }
   ],
   "source": [
    "independent = [x for x in range(1,6)]\n",
    "plt.plot(independent,accuracy, color = 'g', linewidth = 3)\n",
    "\n",
    "plt.xlabel(\"Epochs\")\n",
    "plt.ylabel(\"Accuracy\")\n",
    "plt.title(\"Epochs: 5, HNodes: 200, LR: 0.01\")\n",
    "plt.xticks(independent)"
   ]
  },
  {
   "cell_type": "code",
   "execution_count": null,
   "metadata": {},
   "outputs": [],
   "source": [
    "epochs = [1, 5, 10, 15, 20 ]\n",
    "LRs = [0.001, 0.01, 0.1, 0.2, 0.4, 0.6]"
   ]
  },
  {
   "cell_type": "markdown",
   "metadata": {},
   "source": [
    "#### Optimal number of hidden nodes"
   ]
  },
  {
   "cell_type": "code",
   "execution_count": 29,
   "metadata": {},
   "outputs": [
    {
     "name": "stdout",
     "output_type": "stream",
     "text": [
      "0.9645\n",
      "0.9662\n",
      "0.9656\n",
      "0.9643\n",
      "0.9609\n",
      "0.9604\n"
     ]
    },
    {
     "data": {
      "text/plain": [
       "([<matplotlib.axis.XTick at 0x13f15be4c50>,\n",
       "  <matplotlib.axis.XTick at 0x13f15be4588>,\n",
       "  <matplotlib.axis.XTick at 0x13f15be42b0>,\n",
       "  <matplotlib.axis.XTick at 0x13f15c08c88>,\n",
       "  <matplotlib.axis.XTick at 0x13f15c12198>,\n",
       "  <matplotlib.axis.XTick at 0x13f15c12668>],\n",
       " <a list of 6 Text xticklabel objects>)"
      ]
     },
     "execution_count": 29,
     "metadata": {},
     "output_type": "execute_result"
    },
    {
     "data": {
      "image/png": "[encoded data removed]",
      "text/plain": [
       "<Figure size 432x288 with 1 Axes>"
      ]
     },
     "metadata": {
      "needs_background": "light"
     },
     "output_type": "display_data"
    }
   ],
   "source": [
    "HNacc = []\n",
    "for Nodes in range(100,601,100):\n",
    "    NN1 = neuralNetwork(inputnodes = 784, hiddennodes=Nodes, outputnodes=10, learningrate=0.01)\n",
    "    for epoch in range(5):\n",
    "        for i in range(len(x_train)):\n",
    "            loss = NN1.train(x_train[i], y_train1[i],i)\n",
    "            if epoch == 4 and i == 59999:\n",
    "                acc = NN1.get_accuracy(x_test,y_test1)\n",
    "                HNacc.append(acc)\n",
    "                print(acc)\n",
    "\n",
    "independent = [x for x in range(100,601,100)]\n",
    "plt.plot(independent,HNacc, color = 'g', linewidth = 3)\n",
    "\n",
    "plt.xlabel(\"# of HNodes\")\n",
    "plt.ylabel(\"Accuracy\")\n",
    "plt.title(\"Epochs: 5, LR: 0.01, Variable # of HNodes\")\n",
    "plt.xticks(independent)"
   ]
  },
  {
   "cell_type": "markdown",
   "metadata": {},
   "source": [
    "#### Optimal Learning Rate"
   ]
  },
  {
   "cell_type": "code",
   "execution_count": 54,
   "metadata": {},
   "outputs": [
    {
     "name": "stdout",
     "output_type": "stream",
     "text": [
      "0.8905\n",
      "0.9633\n",
      "0.9387\n",
      "0.8794\n",
      "0.8616\n",
      "0.0974\n"
     ]
    },
    {
     "data": {
      "text/plain": [
       "([<matplotlib.axis.XTick at 0x13f1251aac8>,\n",
       "  <matplotlib.axis.XTick at 0x13f1251a4a8>,\n",
       "  <matplotlib.axis.XTick at 0x13f1251a358>,\n",
       "  <matplotlib.axis.XTick at 0x13f12529e48>,\n",
       "  <matplotlib.axis.XTick at 0x13f12531358>,\n",
       "  <matplotlib.axis.XTick at 0x13f125318d0>],\n",
       " <a list of 6 Text xticklabel objects>)"
      ]
     },
     "execution_count": 54,
     "metadata": {},
     "output_type": "execute_result"
    },
    {
     "data": {
      "image/png": "[encoded data removed]",
      "text/plain": [
       "<Figure size 432x288 with 1 Axes>"
      ]
     },
     "metadata": {
      "needs_background": "light"
     },
     "output_type": "display_data"
    }
   ],
   "source": [
    "LRs = [0.001, 0.01, 0.1, 0.2, 0.4, 0.6]\n",
    "LRacc = []\n",
    "for lr in LRs:\n",
    "    NN2 = neuralNetwork(inputnodes = 784, hiddennodes=200, outputnodes=10, learningrate=lr)\n",
    "    for epoch in range(5):\n",
    "        for i in range(len(x_train)):\n",
    "            loss = NN2.train(x_train[i], y_train1[i],i)\n",
    "            if epoch == 4 and i == 59999:\n",
    "                acc = NN2.get_accuracy(x_test,y_test1)\n",
    "                LRacc.append(acc)\n",
    "                print(acc)\n",
    "\n",
    "\n",
    "plt.plot(LRs,LRacc, color = 'g', linewidth = 3)\n",
    "\n",
    "plt.xlabel(\"Learning Rates\")\n",
    "plt.ylabel(\"Accuracy\")\n",
    "plt.title(\"Epochs: 5, HNodes: 200, Variable Learning Rates\")\n",
    "plt.xticks(LRs)"
   ]
  },
  {
   "cell_type": "markdown",
   "metadata": {},
   "source": [
    "#### Optimal Epochs"
   ]
  },
  {
   "cell_type": "code",
   "execution_count": 55,
   "metadata": {},
   "outputs": [
    {
     "name": "stdout",
     "output_type": "stream",
     "text": [
      "0.9126\n",
      "0.9651\n",
      "0.9683\n",
      "0.9705\n",
      "0.9752\n"
     ]
    },
    {
     "data": {
      "text/plain": [
       "([<matplotlib.axis.XTick at 0x13f11f8de80>,\n",
       "  <matplotlib.axis.XTick at 0x13f11f8d7b8>,\n",
       "  <matplotlib.axis.XTick at 0x13f11f8d4e0>,\n",
       "  <matplotlib.axis.XTick at 0x13f126372e8>,\n",
       "  <matplotlib.axis.XTick at 0x13f126377b8>],\n",
       " <a list of 5 Text xticklabel objects>)"
      ]
     },
     "execution_count": 55,
     "metadata": {},
     "output_type": "execute_result"
    },
    {
     "data": {
      "image/png": "[encoded data removed]",
      "text/plain": [
       "<Figure size 432x288 with 1 Axes>"
      ]
     },
     "metadata": {
      "needs_background": "light"
     },
     "output_type": "display_data"
    }
   ],
   "source": [
    "epochs = [1, 5, 10, 15, 20 ]\n",
    "EPacc = []\n",
    "for e in epochs:\n",
    "    NN3 = neuralNetwork(inputnodes = 784, hiddennodes=200, outputnodes=10, learningrate=0.01)\n",
    "    for epoch in range(e):\n",
    "        for i in range(len(x_train)):\n",
    "            loss = NN3.train(x_train[i], y_train1[i],i)\n",
    "            if epoch == e-1 and i == 59999:\n",
    "                acc = NN3.get_accuracy(x_test,y_test1)\n",
    "                EPacc.append(acc)\n",
    "                print(acc)\n",
    "\n",
    "\n",
    "plt.plot(epochs,EPacc, color = 'g', linewidth = 3)\n",
    "\n",
    "plt.xlabel(\"Epochs\")\n",
    "plt.ylabel(\"Accuracy\")\n",
    "plt.title(\"HNodes: 200, LR: 0.01, Variable Epochs\")\n",
    "plt.xticks(epochs)"
   ]
  },
  {
   "cell_type": "markdown",
   "metadata": {},
   "source": [
    "#### Final Hyperparameters"
   ]
  },
  {
   "cell_type": "markdown",
   "metadata": {},
   "source": [
    "Based on the hyperparameter tests, the optimal model has 200 hidden nodes, a learning rate of 0.01, and trains for 10 epochs. Increasing the epochs past 10 seemed unreasonable since it drastically increased runtime and increased accuracy by less than 1%."
   ]
  },
  {
   "cell_type": "code",
   "execution_count": null,
   "metadata": {},
   "outputs": [],
   "source": []
  },
  {
   "cell_type": "code",
   "execution_count": 56,
   "metadata": {},
   "outputs": [
    {
     "name": "stdout",
     "output_type": "stream",
     "text": [
      "Epoch:  1 Loss:  0.0017119970289359787 Accuracy:  0.9337\n",
      "Epoch:  2 Loss:  0.006211372264851655 Accuracy:  0.9539\n",
      "Epoch:  3 Loss:  0.0010694461625841006 Accuracy:  0.9493\n",
      "Epoch:  4 Loss:  0.0035156745402790948 Accuracy:  0.9509\n",
      "Epoch:  5 Loss:  0.0064064144450412365 Accuracy:  0.9388\n",
      "Epoch:  6 Loss:  0.00035390462118755294 Accuracy:  0.9245\n",
      "Epoch:  7 Loss:  0.0002797369535185433 Accuracy:  0.9357\n",
      "Epoch:  8 Loss:  0.0030068077403175375 Accuracy:  0.9406\n",
      "Epoch:  9 Loss:  0.0018918568187447835 Accuracy:  0.9442\n",
      "Epoch:  10 Loss:  0.005704968269317383 Accuracy:  0.9338\n"
     ]
    }
   ],
   "source": [
    "FinalNN = neuralNetwork(inputnodes = 784, hiddennodes=200, outputnodes=10, learningrate=0.01)\n",
    "FinalEpochs = 10\n",
    "for epoch in range(1,FinalEpochs+1):\n",
    "        for i in range(len(x_train)):\n",
    "            loss = FinalNN.train(x_train[i], y_train1[i],i)\n",
    "            if i == len(x_train)-1:\n",
    "                acc = FinalNN.get_accuracy(x_test,y_test1)\n",
    "                print(\"Epoch: \", epoch, \"Loss: \", loss, \"Accuracy: \", acc)"
   ]
  },
  {
   "cell_type": "code",
   "execution_count": null,
   "metadata": {},
   "outputs": [],
   "source": []
  },
  {
   "cell_type": "markdown",
   "metadata": {},
   "source": [
    "### Try on gimp images"
   ]
  },
  {
   "cell_type": "markdown",
   "metadata": {},
   "source": [
    "Needed to import Pillow without retraining model so i pickled the trained model."
   ]
  },
  {
   "cell_type": "code",
   "execution_count": 8,
   "metadata": {},
   "outputs": [],
   "source": [
    "import pickle"
   ]
  },
  {
   "cell_type": "code",
   "execution_count": 40,
   "metadata": {},
   "outputs": [],
   "source": [
    "with open('FinalNN','wb') as save_Final_NN:\n",
    "    pickle.dump(FinalNN,save_Final_NN)"
   ]
  },
  {
   "cell_type": "code",
   "execution_count": 11,
   "metadata": {},
   "outputs": [],
   "source": [
    "with open('FinalNN', 'rb') as Final_NN_Copy:\n",
    "    # Step 3\n",
    "    FinalCopy = pickle.load(Final_NN_Copy)"
   ]
  },
  {
   "cell_type": "code",
   "execution_count": 57,
   "metadata": {},
   "outputs": [],
   "source": [
    "from PIL import Image"
   ]
  },
  {
   "cell_type": "code",
   "execution_count": null,
   "metadata": {},
   "outputs": [],
   "source": []
  },
  {
   "cell_type": "code",
   "execution_count": 97,
   "metadata": {},
   "outputs": [
    {
     "data": {
      "image/png": "[encoded data removed]",
      "text/plain": [
       "<PIL.PngImagePlugin.PngImageFile image mode=L size=28x28 at 0x13F12E6E400>"
      ]
     },
     "execution_count": 97,
     "metadata": {},
     "output_type": "execute_result"
    }
   ],
   "source": [
    "zero = Image.open('./Gimp Images/zero.png', 'r')\n",
    "one = Image.open('./Gimp Images/one.png', 'r')\n",
    "two = Image.open('./Gimp Images/two.png', 'r')\n",
    "three = Image.open('./Gimp Images/three.png', 'r')\n",
    "four = Image.open('./Gimp Images/four.png', 'r')\n",
    "five = Image.open('./Gimp Images/five.png', 'r')\n",
    "six = Image.open('./Gimp Images/six.png', 'r')\n",
    "seven = Image.open('./Gimp Images/seven.png', 'r')\n",
    "eight = Image.open('./Gimp Images/eight.png', 'r')\n",
    "nine = Image.open('./Gimp Images/nine.png', 'r')\n",
    "nine"
   ]
  },
  {
   "cell_type": "code",
   "execution_count": 135,
   "metadata": {},
   "outputs": [
    {
     "data": {
      "text/plain": [
       "784"
      ]
     },
     "execution_count": 135,
     "metadata": {},
     "output_type": "execute_result"
    }
   ],
   "source": [
    "pixels = list(zero.getdata())\n",
    "len(pixels)"
   ]
  },
  {
   "cell_type": "code",
   "execution_count": null,
   "metadata": {},
   "outputs": [],
   "source": []
  },
  {
   "cell_type": "code",
   "execution_count": 104,
   "metadata": {},
   "outputs": [],
   "source": [
    "Zero = numpy.asarray(list(zero.getdata()))\n",
    "One = numpy.asarray(list(one.getdata()))\n",
    "Two = numpy.asarray(list(two.getdata()))\n",
    "Three = numpy.asarray(list(three.getdata()))\n",
    "Four = numpy.asarray(list(four.getdata()))\n",
    "Five = numpy.asarray(list(five.getdata()))\n",
    "Six = numpy.asarray(list(six.getdata()))\n",
    "Seven = numpy.asarray(list(seven.getdata()))\n",
    "Eight = numpy.asarray(list(eight.getdata()))\n",
    "Nine = numpy.asarray(list(nine.getdata()))"
   ]
  },
  {
   "cell_type": "code",
   "execution_count": 131,
   "metadata": {},
   "outputs": [
    {
     "data": {
      "text/plain": [
       "(784,)"
      ]
     },
     "execution_count": 131,
     "metadata": {},
     "output_type": "execute_result"
    }
   ],
   "source": [
    "Zero.shape"
   ]
  },
  {
   "cell_type": "code",
   "execution_count": 108,
   "metadata": {},
   "outputs": [],
   "source": [
    "gimpxTest = numpy.asarray([Zero,One,Two,Three,Four,Five,Six,Seven,Eight,Nine])"
   ]
  },
  {
   "cell_type": "code",
   "execution_count": 123,
   "metadata": {},
   "outputs": [],
   "source": [
    "import pandas as pd"
   ]
  },
  {
   "cell_type": "code",
   "execution_count": 129,
   "metadata": {},
   "outputs": [],
   "source": [
    "for i in range(len(gimpxTest)):\n",
    "    pd.DataFrame(gimpxTest[i]).to_csv(\"%s.csv\" % i)"
   ]
  },
  {
   "cell_type": "code",
   "execution_count": 109,
   "metadata": {},
   "outputs": [
    {
     "data": {
      "text/plain": [
       "array([[0.99, 0.01, 0.01, 0.01, 0.01, 0.01, 0.01, 0.01, 0.01, 0.01],\n",
       "       [0.01, 0.99, 0.01, 0.01, 0.01, 0.01, 0.01, 0.01, 0.01, 0.01],\n",
       "       [0.01, 0.01, 0.99, 0.01, 0.01, 0.01, 0.01, 0.01, 0.01, 0.01],\n",
       "       [0.01, 0.01, 0.01, 0.99, 0.01, 0.01, 0.01, 0.01, 0.01, 0.01],\n",
       "       [0.01, 0.01, 0.01, 0.01, 0.99, 0.01, 0.01, 0.01, 0.01, 0.01],\n",
       "       [0.01, 0.01, 0.01, 0.01, 0.01, 0.99, 0.01, 0.01, 0.01, 0.01],\n",
       "       [0.01, 0.01, 0.01, 0.01, 0.01, 0.01, 0.99, 0.01, 0.01, 0.01],\n",
       "       [0.01, 0.01, 0.01, 0.01, 0.01, 0.01, 0.01, 0.99, 0.01, 0.01],\n",
       "       [0.01, 0.01, 0.01, 0.01, 0.01, 0.01, 0.01, 0.01, 0.99, 0.01],\n",
       "       [0.01, 0.01, 0.01, 0.01, 0.01, 0.01, 0.01, 0.01, 0.01, 0.99]])"
      ]
     },
     "execution_count": 109,
     "metadata": {},
     "output_type": "execute_result"
    }
   ],
   "source": [
    "gimpyTest = []\n",
    "for i in range(10):\n",
    "    empty = [0.01 for x in range(10)]\n",
    "    empty[i] = 0.99\n",
    "    gimpyTest.append(empty)\n",
    "gimpyTest = numpy.asarray(gimpyTest)\n",
    "gimpyTest"
   ]
  },
  {
   "cell_type": "code",
   "execution_count": 110,
   "metadata": {},
   "outputs": [],
   "source": [
    "gimpxTest = (gimpxTest*(0.98/255))+0.01"
   ]
  },
  {
   "cell_type": "markdown",
   "metadata": {},
   "source": [
    "#### Try on GIMP Images"
   ]
  },
  {
   "cell_type": "code",
   "execution_count": 111,
   "metadata": {},
   "outputs": [
    {
     "name": "stdout",
     "output_type": "stream",
     "text": [
      "Predicted:  9 Actual Label:  0\n",
      "Predicted:  2 Actual Label:  1\n",
      "Predicted:  1 Actual Label:  2\n",
      "Predicted:  9 Actual Label:  3\n",
      "Predicted:  1 Actual Label:  4\n",
      "Predicted:  5 Actual Label:  5\n",
      "Predicted:  6 Actual Label:  6\n",
      "Predicted:  2 Actual Label:  7\n",
      "Predicted:  8 Actual Label:  8\n",
      "Predicted:  9 Actual Label:  9\n",
      "Accuracy:  0.4\n"
     ]
    }
   ],
   "source": [
    "correct = 0\n",
    "for i in range(10):\n",
    "    pred = FinalNN.query(gimpxTest[i])\n",
    "    label = i\n",
    "    if pred == label:\n",
    "        correct +=1\n",
    "    print('Predicted: ', pred, 'Actual Label: ', label)\n",
    "print(\"Accuracy: \", correct/10)\n",
    "    "
   ]
  },
  {
   "cell_type": "code",
   "execution_count": null,
   "metadata": {},
   "outputs": [],
   "source": []
  },
  {
   "cell_type": "markdown",
   "metadata": {},
   "source": [
    "#### Rotate images for new data"
   ]
  },
  {
   "cell_type": "code",
   "execution_count": 112,
   "metadata": {},
   "outputs": [],
   "source": [
    "from scipy import ndimage"
   ]
  },
  {
   "cell_type": "code",
   "execution_count": 113,
   "metadata": {},
   "outputs": [],
   "source": [
    "x_train2 = []\n",
    "y_train2 = y_train1\n",
    "for i in range(len(x_train)):\n",
    "    temp = x_train[i].reshape((28,28))\n",
    "    rotPos10 = scipy.ndimage.interpolation.rotate(temp,10,reshape = False)\n",
    "    x_train2.append(rotPos10)\n",
    "x_train2 = numpy.asarray(x_train2)"
   ]
  },
  {
   "cell_type": "code",
   "execution_count": 114,
   "metadata": {},
   "outputs": [
    {
     "data": {
      "text/plain": [
       "(60000, 28, 28)"
      ]
     },
     "execution_count": 114,
     "metadata": {},
     "output_type": "execute_result"
    }
   ],
   "source": [
    "x_train2.shape"
   ]
  },
  {
   "cell_type": "code",
   "execution_count": 115,
   "metadata": {},
   "outputs": [],
   "source": [
    "x_train2 = x_train2.reshape(x_train2.shape[0], (28*28))"
   ]
  },
  {
   "cell_type": "code",
   "execution_count": 68,
   "metadata": {},
   "outputs": [
    {
     "data": {
      "text/plain": [
       "(60000, 784)"
      ]
     },
     "execution_count": 68,
     "metadata": {},
     "output_type": "execute_result"
    }
   ],
   "source": [
    "x_train2.shape"
   ]
  },
  {
   "cell_type": "code",
   "execution_count": 69,
   "metadata": {},
   "outputs": [],
   "source": [
    "#add to original data\n",
    "x_trainNew = numpy.append(x_train, x_train2,axis = 0)\n",
    "y_train1New = numpy.append(y_train1,y_train2, axis = 0)"
   ]
  },
  {
   "cell_type": "code",
   "execution_count": 70,
   "metadata": {},
   "outputs": [],
   "source": [
    "#rotate other direction"
   ]
  },
  {
   "cell_type": "code",
   "execution_count": 71,
   "metadata": {},
   "outputs": [],
   "source": [
    "x_train3 = []\n",
    "y_train3 = y_train1\n",
    "for i in range(len(x_train)):\n",
    "    temp = x_train[i].reshape((28,28))\n",
    "    rotPos10 = scipy.ndimage.interpolation.rotate(temp,-10,reshape = False)\n",
    "    x_train3.append(rotPos10)\n",
    "x_train3 = numpy.asarray(x_train3)\n",
    "x_train3 = x_train3.reshape(x_train3.shape[0], (28*28))"
   ]
  },
  {
   "cell_type": "code",
   "execution_count": 72,
   "metadata": {},
   "outputs": [],
   "source": [
    "x_trainNew = numpy.append(x_trainNew, x_train3,axis = 0)\n",
    "y_train1New = numpy.append(y_train1New,y_train3, axis = 0)"
   ]
  },
  {
   "cell_type": "markdown",
   "metadata": {},
   "source": [
    "#### Retrain!"
   ]
  },
  {
   "cell_type": "code",
   "execution_count": 73,
   "metadata": {},
   "outputs": [
    {
     "name": "stdout",
     "output_type": "stream",
     "text": [
      "Epoch:  1 Loss:  0.001773062184074551 Accuracy:  0.9147\n",
      "Epoch:  2 Loss:  0.0002446348088525113 Accuracy:  0.9319\n",
      "Epoch:  3 Loss:  0.0012577097997597255 Accuracy:  0.9176\n",
      "Epoch:  4 Loss:  0.0006668568459914072 Accuracy:  0.9165\n",
      "Epoch:  5 Loss:  0.006240188336334062 Accuracy:  0.9191\n",
      "Epoch:  6 Loss:  0.0013612554130232046 Accuracy:  0.894\n",
      "Epoch:  7 Loss:  0.001897530912623373 Accuracy:  0.916\n",
      "Epoch:  8 Loss:  0.003245955823909136 Accuracy:  0.8907\n",
      "Epoch:  9 Loss:  0.0006585996163091671 Accuracy:  0.9002\n",
      "Epoch:  10 Loss:  0.000656944208728397 Accuracy:  0.8914\n"
     ]
    }
   ],
   "source": [
    "finalNN2 = neuralNetwork(inputnodes = 784, hiddennodes=200, outputnodes=10, learningrate=0.01)\n",
    "FinalEpochs = 10\n",
    "for epoch in range(1,FinalEpochs+1):\n",
    "        for i in range(len(x_trainNew)):\n",
    "            loss = finalNN2.train(x_trainNew[i], y_train1New[i],i)\n",
    "            if i == len(x_trainNew)-1:\n",
    "                acc = finalNN2.get_accuracy(x_test,y_test1)\n",
    "                print(\"Epoch: \", epoch, \"Loss: \", loss, \"Accuracy: \", acc)"
   ]
  },
  {
   "cell_type": "code",
   "execution_count": 76,
   "metadata": {},
   "outputs": [
    {
     "data": {
      "text/plain": [
       "0.8914"
      ]
     },
     "execution_count": 76,
     "metadata": {},
     "output_type": "execute_result"
    }
   ],
   "source": [
    "accuracy2 = finalNN2.get_accuracy(x_test,y_test1)\n",
    "accuracy2"
   ]
  },
  {
   "cell_type": "markdown",
   "metadata": {},
   "source": [
    "#### Try on GIMP Images"
   ]
  },
  {
   "cell_type": "code",
   "execution_count": 116,
   "metadata": {},
   "outputs": [
    {
     "name": "stdout",
     "output_type": "stream",
     "text": [
      "Predicted:  9 Actual Label:  0\n",
      "Predicted:  6 Actual Label:  1\n",
      "Predicted:  2 Actual Label:  2\n",
      "Predicted:  3 Actual Label:  3\n",
      "Predicted:  9 Actual Label:  4\n",
      "Predicted:  3 Actual Label:  5\n",
      "Predicted:  6 Actual Label:  6\n",
      "Predicted:  3 Actual Label:  7\n",
      "Predicted:  3 Actual Label:  8\n",
      "Predicted:  9 Actual Label:  9\n",
      "Accuracy:  0.4\n"
     ]
    }
   ],
   "source": [
    "correct = 0\n",
    "for i in range(10):\n",
    "    pred = finalNN2.query(gimpxTest[i])\n",
    "    label = i\n",
    "    if pred == label:\n",
    "        correct +=1\n",
    "    print('Predicted: ', pred, 'Actual Label: ', label)\n",
    "print(\"Accuracy: \", correct/10)"
   ]
  },
  {
   "cell_type": "code",
   "execution_count": null,
   "metadata": {},
   "outputs": [],
   "source": []
  },
  {
   "cell_type": "code",
   "execution_count": null,
   "metadata": {},
   "outputs": [],
   "source": []
  },
  {
   "cell_type": "code",
   "execution_count": null,
   "metadata": {},
   "outputs": [],
   "source": []
  }
 ],
 "metadata": {
  "kernelspec": {
   "display_name": "Python 3",
   "language": "python",
   "name": "python3"
  },
  "language_info": {
   "codemirror_mode": {
    "name": "ipython",
    "version": 3
   },
   "file_extension": ".py",
   "mimetype": "text/x-python",
   "name": "python",
   "nbconvert_exporter": "python",
   "pygments_lexer": "ipython3",
   "version": "3.8.3"
  }
 },
 "nbformat": 4,
 "nbformat_minor": 4
}
